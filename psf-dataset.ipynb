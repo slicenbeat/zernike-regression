{
 "cells": [
  {
   "cell_type": "code",
   "execution_count": 1,
   "metadata": {},
   "outputs": [],
   "source": [
    "import opticspy\n",
    "import numpy as np\n",
    "import os\n",
    "import pandas as pd\n",
    "import matplotlib.pyplot as plt\n",
    "from tqdm.auto import tqdm"
   ]
  },
  {
   "cell_type": "code",
   "execution_count": 7,
   "metadata": {},
   "outputs": [],
   "source": [
    "def crop_image(img):\n",
    "    margin = 0\n",
    "    h, w = img.shape\n",
    "    for p in img[0]:\n",
    "        if p == 0:\n",
    "            margin += 1\n",
    "        else:\n",
    "            break\n",
    "    return img[margin:h-margin,margin:w-margin]"
   ]
  },
  {
   "cell_type": "code",
   "execution_count": 3,
   "metadata": {},
   "outputs": [],
   "source": [
    "current_path = os.getcwd()\n",
    "df = pd.DataFrame(np.random.uniform(size=((3000, 10))), columns=[f\"coef{i}\" for i in range(10)])\n",
    "df['img'] = [f\"{i}\" for i in range(3000)]\n",
    "df.to_csv(current_path + \"\\\\test.csv\", index=False)"
   ]
  },
  {
   "cell_type": "code",
   "execution_count": null,
   "metadata": {},
   "outputs": [],
   "source": [
    "current_path = os.getcwd()\n",
    "df = pd.DataFrame(np.random.uniform(size=((3000, 10))), columns=[f\"coef{i}\" for i in range(10)])\n",
    "df['img'] = [f\"{i}\" for i in range(3000)]\n",
    "df.to_csv(current_path + \"\\\\validation.csv\", index=False)"
   ]
  },
  {
   "cell_type": "code",
   "execution_count": null,
   "metadata": {},
   "outputs": [],
   "source": [
    "current_path = os.getcwd()\n",
    "df = pd.DataFrame(np.random.uniform(size=((54000, 10))), columns=[f\"coef{i}\" for i in range(10)])\n",
    "df['img'] = [f\"{i}\" for i in range(54000)]\n",
    "df.to_csv(current_path + \"\\\\train.csv\", index=False)"
   ]
  },
  {
   "cell_type": "code",
   "execution_count": null,
   "metadata": {},
   "outputs": [],
   "source": [
    "# df = pd.read_csv('data_info.csv')\n",
    "# df.iloc[:2000].to_csv('test.csv')\n",
    "# df.iloc[2000:4000].to_csv('validation.csv')\n",
    "# df.iloc[4000:].to_csv('train.csv')"
   ]
  },
  {
   "cell_type": "code",
   "execution_count": 4,
   "metadata": {},
   "outputs": [],
   "source": [
    "current_path = os.getcwd()\n",
    "path_for_generation = 'test' #test, validation, train\n",
    "data_info = pd.read_csv(current_path + \"\\\\data_info.csv\")"
   ]
  },
  {
   "cell_type": "code",
   "execution_count": null,
   "metadata": {},
   "outputs": [],
   "source": [
    "# for i in tqdm(data_info.iloc[N:].iterrows()):, N — номер с которого упал\n",
    "# for i in tqdm(data_info.iterrows()):\n",
    "\n",
    "for i in tqdm(data_info.iterrows()):\n",
    "    row = i[1].to_list()\n",
    "    img_name = str(int(row[-1]))\n",
    "    new_arr = row[:10]\n",
    "    zer = opticspy.zernike.Coefficient(Z4=new_arr[0], Z5=new_arr[1],Z6=new_arr[2], Z7=new_arr[3], Z8=new_arr[4], Z9=new_arr[5],Z10=new_arr[6], Z11=new_arr[7], Z12=new_arr[8], Z13=new_arr[9])\n",
    "    img = zer.psf(r=1)\n",
    "    plt.axis('off')\n",
    "    plt.imsave(current_path + '\\\\' + path_for_generation + '\\\\' +  img_name + '.jpg',crop_image(img), cmap=\"RdYlGn\")\n"
   ]
  }
 ],
 "metadata": {
  "interpreter": {
   "hash": "7efccbe9ba790248861d072c26975676b1fc8facd66b22e9664a651c509aae95"
  },
  "kernelspec": {
   "display_name": "Python 3.8.5 64-bit ('base': conda)",
   "name": "python3"
  },
  "language_info": {
   "codemirror_mode": {
    "name": "ipython",
    "version": 3
   },
   "file_extension": ".py",
   "mimetype": "text/x-python",
   "name": "python",
   "nbconvert_exporter": "python",
   "pygments_lexer": "ipython3",
   "version": "3.8.5"
  }
 },
 "nbformat": 4,
 "nbformat_minor": 4
}
